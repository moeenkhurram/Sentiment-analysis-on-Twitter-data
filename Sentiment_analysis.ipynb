{
  "nbformat": 4,
  "nbformat_minor": 0,
  "metadata": {
    "kernelspec": {
      "display_name": "twitter",
      "language": "python",
      "name": "twitter"
    },
    "language_info": {
      "codemirror_mode": {
        "name": "ipython",
        "version": 3
      },
      "file_extension": ".py",
      "mimetype": "text/x-python",
      "name": "python",
      "nbconvert_exporter": "python",
      "pygments_lexer": "ipython3",
      "version": "3.8.5"
    },
    "colab": {
      "name": "Sentiment analysis.ipynb",
      "provenance": [],
      "collapsed_sections": [],
      "include_colab_link": true
    },
    "accelerator": "GPU"
  },
  "cells": [
    {
      "cell_type": "markdown",
      "metadata": {
        "id": "view-in-github",
        "colab_type": "text"
      },
      "source": [
        "<a href=\"https://colab.research.google.com/github/moeenkhurram/Sentiment-analysis-on-Twitter-data/blob/main/Sentiment_analysis.ipynb\" target=\"_parent\"><img src=\"https://colab.research.google.com/assets/colab-badge.svg\" alt=\"Open In Colab\"/></a>"
      ]
    },
    {
      "cell_type": "code",
      "metadata": {
        "id": "xNMWkfxPJCPO",
        "colab": {
          "base_uri": "https://localhost:8080/"
        },
        "outputId": "70977302-1229-4521-9505-68d0956e6147"
      },
      "source": [
        "import matplotlib.pyplot as plt\n",
        "from sklearn.utils import shuffle\n",
        "import numpy as np\n",
        "import os\n",
        "import re\n",
        "import string\n",
        "import pandas as pd\n",
        "DATASET_ENCODING = \"ISO-8859-1\"\n",
        "from textblob import TextBlob\n",
        "from nltk.corpus import stopwords\n",
        "from nltk.tokenize import word_tokenize\n",
        "import nltk\n",
        "from nltk.stem import PorterStemmer\n",
        "from nltk.stem import WordNetLemmatizer\n",
        "from wordcloud import WordCloud \n",
        "\n",
        "\n",
        "nltk.download('movie_reviews')\n",
        "nltk.download('wordnet')\n",
        "nltk.download('vader_lexicon')\n",
        "nltk.download('stopwords')\n",
        "nltk.download('punkt')\n",
        "\n",
        "# Global Parameters\n",
        "stop_words = set(stopwords.words('english'))\n",
        "\n",
        "pd.set_option('display.max_colwidth', 150)\n",
        "\n"
      ],
      "execution_count": 1,
      "outputs": [
        {
          "output_type": "stream",
          "text": [
            "[nltk_data] Downloading package movie_reviews to /root/nltk_data...\n",
            "[nltk_data]   Unzipping corpora/movie_reviews.zip.\n",
            "[nltk_data] Downloading package wordnet to /root/nltk_data...\n",
            "[nltk_data]   Unzipping corpora/wordnet.zip.\n",
            "[nltk_data] Downloading package vader_lexicon to /root/nltk_data...\n",
            "[nltk_data] Downloading package stopwords to /root/nltk_data...\n",
            "[nltk_data]   Unzipping corpora/stopwords.zip.\n",
            "[nltk_data] Downloading package punkt to /root/nltk_data...\n",
            "[nltk_data]   Unzipping tokenizers/punkt.zip.\n"
          ],
          "name": "stdout"
        }
      ]
    },
    {
      "cell_type": "code",
      "metadata": {
        "id": "qeUtpoq_OOqH",
        "colab": {
          "base_uri": "https://localhost:8080/"
        },
        "outputId": "2e18e91c-ca30-4595-d8f0-60709b4222c5"
      },
      "source": [
        "from google.colab import drive\n",
        "drive.mount('/content/gdrive')"
      ],
      "execution_count": 2,
      "outputs": [
        {
          "output_type": "stream",
          "text": [
            "Mounted at /content/gdrive\n"
          ],
          "name": "stdout"
        }
      ]
    },
    {
      "cell_type": "markdown",
      "metadata": {
        "id": "0WsC7dW6JCPs"
      },
      "source": [
        "# About Dataset\n"
      ]
    },
    {
      "cell_type": "markdown",
      "metadata": {
        "id": "h8tfyPbBJCPu"
      },
      "source": [
        "Dataset: [Sentiment140 dataset with 1.6 million tweets](https://www.kaggle.com/kazanova/sentiment140)\n",
        "\n",
        "This is the sentiment140 dataset.\n",
        "It contains 1,600,000 tweets extracted using the twitter api . The tweets have been annotated (0 = negative, 2 = neutral, 4 = positive) and they can be used to detect sentiment .\n",
        "It contains the following 6 fields:\n",
        "\n",
        "target: the polarity of the tweet (0 = negative, 2 = neutral, 4 = positive)\n",
        "ids: The id of the tweet ( 2087)\n",
        "date: the date of the tweet (Sat May 16 23:58:44 UTC 2009)\n",
        "flag: The query (lyx). If there is no query, then this value is NO_QUERY.\n",
        "user: the user that tweeted (robotickilldozr)\n",
        "text: the text of the tweet (Lyx is cool)\n",
        "The official link regarding the dataset with resources about how it was generated is here\n",
        "The official paper detailing the approach is here\n",
        "\n",
        "According to the creators of the dataset:\n",
        "\n",
        "\"Our approach was unique because our training data was automatically created, as opposed to having humans manual annotate tweets. In our approach, we assume that any tweet with positive emoticons, like :), were positive, and tweets with negative emoticons, like :(, were negative. We used the Twitter Search API to collect these tweets by using keyword search\"\n",
        "\n",
        "citation: Go, A., Bhayani, R. and Huang, L., 2009. Twitter sentiment classification using distant supervision. CS224N Project Report, Stanford, 1(2009), p.12."
      ]
    },
    {
      "cell_type": "code",
      "metadata": {
        "id": "lW1KrQ1vJCPv",
        "colab": {
          "base_uri": "https://localhost:8080/"
        },
        "outputId": "6e47bbf4-a5dc-4e25-c421-237f4ea80e89"
      },
      "source": [
        "colnames=['target','ids' ,'date','flag','user','text']\n",
        "df = pd.read_csv(\"/content/gdrive/My Drive/archive.zip\",encoding=DATASET_ENCODING, names=colnames, header=None)\n",
        "df = df.sample(int(len(df)/2)).reset_index(drop=True)\n",
        "df.shape"
      ],
      "execution_count": 3,
      "outputs": [
        {
          "output_type": "execute_result",
          "data": {
            "text/plain": [
              "(800000, 6)"
            ]
          },
          "metadata": {
            "tags": []
          },
          "execution_count": 3
        }
      ]
    },
    {
      "cell_type": "code",
      "metadata": {
        "id": "Wl25vb-sJCPz",
        "colab": {
          "base_uri": "https://localhost:8080/",
          "height": 402
        },
        "outputId": "6e8e078a-6961-45fc-9eb2-0817d5b852a6"
      },
      "source": [
        "df= df.iloc[:,[0,-1]]\n",
        "df.columns = ['sentiment','tweet']\n",
        "#df = pd.concat([df.query(\"sentiment==0\").sample(20000,  random_state=7),df.query(\"sentiment==4\").sample(20000, random_state=7)])\n",
        "df.sentiment = df.sentiment.map({0:0, 4:1})\n",
        "df"
      ],
      "execution_count": 4,
      "outputs": [
        {
          "output_type": "execute_result",
          "data": {
            "text/html": [
              "<div>\n",
              "<style scoped>\n",
              "    .dataframe tbody tr th:only-of-type {\n",
              "        vertical-align: middle;\n",
              "    }\n",
              "\n",
              "    .dataframe tbody tr th {\n",
              "        vertical-align: top;\n",
              "    }\n",
              "\n",
              "    .dataframe thead th {\n",
              "        text-align: right;\n",
              "    }\n",
              "</style>\n",
              "<table border=\"1\" class=\"dataframe\">\n",
              "  <thead>\n",
              "    <tr style=\"text-align: right;\">\n",
              "      <th></th>\n",
              "      <th>sentiment</th>\n",
              "      <th>tweet</th>\n",
              "    </tr>\n",
              "  </thead>\n",
              "  <tbody>\n",
              "    <tr>\n",
              "      <th>0</th>\n",
              "      <td>1</td>\n",
              "      <td>Greg:Showing my friends AudioBoo http://audioboo.fm/ Everyone seems 2 love it. Ta for the headzup bro. So need 2 get iPhone. Roll on June</td>\n",
              "    </tr>\n",
              "    <tr>\n",
              "      <th>1</th>\n",
              "      <td>1</td>\n",
              "      <td>@MrTeagan can't wait to see them both on the 14th. signed posters or pics available at the booth? will be there on the 14th.</td>\n",
              "    </tr>\n",
              "    <tr>\n",
              "      <th>2</th>\n",
              "      <td>0</td>\n",
              "      <td>wants something to go right today!!</td>\n",
              "    </tr>\n",
              "    <tr>\n",
              "      <th>3</th>\n",
              "      <td>0</td>\n",
              "      <td>HAHUUUU not ready for tomorrow</td>\n",
              "    </tr>\n",
              "    <tr>\n",
              "      <th>4</th>\n",
              "      <td>0</td>\n",
              "      <td>@Baby_Lexie awww..may she rest in peace...</td>\n",
              "    </tr>\n",
              "    <tr>\n",
              "      <th>...</th>\n",
              "      <td>...</td>\n",
              "      <td>...</td>\n",
              "    </tr>\n",
              "    <tr>\n",
              "      <th>799995</th>\n",
              "      <td>1</td>\n",
              "      <td>@triiiiciaaaa i'm gonna check them out some time.</td>\n",
              "    </tr>\n",
              "    <tr>\n",
              "      <th>799996</th>\n",
              "      <td>1</td>\n",
              "      <td>@GreenyAndGolic Mark Schlereth is the sweetest dad in the world!!  His story made me cry</td>\n",
              "    </tr>\n",
              "    <tr>\n",
              "      <th>799997</th>\n",
              "      <td>0</td>\n",
              "      <td>@Kacizzle88 i'm sorry about your night     lemme get you a drink</td>\n",
              "    </tr>\n",
              "    <tr>\n",
              "      <th>799998</th>\n",
              "      <td>1</td>\n",
              "      <td>@dkmashino Mahalos brah for the #FF! I always enjoy your f*cken tweets!</td>\n",
              "    </tr>\n",
              "    <tr>\n",
              "      <th>799999</th>\n",
              "      <td>1</td>\n",
              "      <td>@KateHill hope you have a GREAT workout!  What are you doing?</td>\n",
              "    </tr>\n",
              "  </tbody>\n",
              "</table>\n",
              "<p>800000 rows × 2 columns</p>\n",
              "</div>"
            ],
            "text/plain": [
              "        sentiment                                                                                                                                       tweet\n",
              "0               1  Greg:Showing my friends AudioBoo http://audioboo.fm/ Everyone seems 2 love it. Ta for the headzup bro. So need 2 get iPhone. Roll on June \n",
              "1               1               @MrTeagan can't wait to see them both on the 14th. signed posters or pics available at the booth? will be there on the 14th. \n",
              "2               0                                                                                                        wants something to go right today!! \n",
              "3               0                                                                                                             HAHUUUU not ready for tomorrow \n",
              "4               0                                                                                                 @Baby_Lexie awww..may she rest in peace... \n",
              "...           ...                                                                                                                                         ...\n",
              "799995          1                                                                                          @triiiiciaaaa i'm gonna check them out some time. \n",
              "799996          1                                                  @GreenyAndGolic Mark Schlereth is the sweetest dad in the world!!  His story made me cry  \n",
              "799997          0                                                                           @Kacizzle88 i'm sorry about your night     lemme get you a drink \n",
              "799998          1                                                                    @dkmashino Mahalos brah for the #FF! I always enjoy your f*cken tweets! \n",
              "799999          1                                                                               @KateHill hope you have a GREAT workout!  What are you doing?\n",
              "\n",
              "[800000 rows x 2 columns]"
            ]
          },
          "metadata": {
            "tags": []
          },
          "execution_count": 4
        }
      ]
    },
    {
      "cell_type": "code",
      "metadata": {
        "id": "VVW-ftoYTfIt"
      },
      "source": [
        "def preprocess_tweet_text(tweet):\n",
        "    tweet.lower()\n",
        "    # Remove urls\n",
        "    tweet = re.sub(r\"http\\S+|www\\S+|https\\S+\", '', tweet, flags=re.MULTILINE)\n",
        "    # Remove user @ references and '#' from tweet\n",
        "    tweet = re.sub(r'\\@\\w+|\\#','', tweet)\n",
        "    # Remove retweets:\n",
        "    tweet = re.sub(r'RT : ', '', tweet)\n",
        "    # Remove punctuations\n",
        "    tweet = tweet.translate(str.maketrans('', '', string.punctuation))\n",
        "    # Remove stopwords\n",
        "    tweet_tokens = word_tokenize(tweet)\n",
        "    filtered_words = [w for w in tweet_tokens if not w in stop_words]\n",
        "    \n",
        "    #ps = PorterStemmer()\n",
        "    #stemmed_words = [ps.stem(w) for w in filtered_words]\n",
        "    lemmatizer = WordNetLemmatizer()\n",
        "    lemma_words = [lemmatizer.lemmatize(w, pos='a') for w in filtered_words]\n",
        "    \n",
        "    return \" \".join(lemma_words)"
      ],
      "execution_count": 5,
      "outputs": []
    },
    {
      "cell_type": "code",
      "metadata": {
        "id": "d_BbibTGJCP0",
        "colab": {
          "base_uri": "https://localhost:8080/",
          "height": 402
        },
        "outputId": "17e2c8f3-11cf-4de5-9a83-8ae1093b8891"
      },
      "source": [
        "df['tweet'] = df['tweet'].apply(preprocess_tweet_text)\n",
        "df"
      ],
      "execution_count": 6,
      "outputs": [
        {
          "output_type": "execute_result",
          "data": {
            "text/html": [
              "<div>\n",
              "<style scoped>\n",
              "    .dataframe tbody tr th:only-of-type {\n",
              "        vertical-align: middle;\n",
              "    }\n",
              "\n",
              "    .dataframe tbody tr th {\n",
              "        vertical-align: top;\n",
              "    }\n",
              "\n",
              "    .dataframe thead th {\n",
              "        text-align: right;\n",
              "    }\n",
              "</style>\n",
              "<table border=\"1\" class=\"dataframe\">\n",
              "  <thead>\n",
              "    <tr style=\"text-align: right;\">\n",
              "      <th></th>\n",
              "      <th>sentiment</th>\n",
              "      <th>tweet</th>\n",
              "    </tr>\n",
              "  </thead>\n",
              "  <tbody>\n",
              "    <tr>\n",
              "      <th>0</th>\n",
              "      <td>1</td>\n",
              "      <td>GregShowing friends AudioBoo Everyone seems 2 love Ta headzup bro So need 2 get iPhone Roll June</td>\n",
              "    </tr>\n",
              "    <tr>\n",
              "      <th>1</th>\n",
              "      <td>1</td>\n",
              "      <td>cant wait see 14th signed posters pics available booth 14th</td>\n",
              "    </tr>\n",
              "    <tr>\n",
              "      <th>2</th>\n",
              "      <td>0</td>\n",
              "      <td>wants something go right today</td>\n",
              "    </tr>\n",
              "    <tr>\n",
              "      <th>3</th>\n",
              "      <td>0</td>\n",
              "      <td>HAHUUUU ready tomorrow</td>\n",
              "    </tr>\n",
              "    <tr>\n",
              "      <th>4</th>\n",
              "      <td>0</td>\n",
              "      <td>rest peace</td>\n",
              "    </tr>\n",
              "    <tr>\n",
              "      <th>...</th>\n",
              "      <td>...</td>\n",
              "      <td>...</td>\n",
              "    </tr>\n",
              "    <tr>\n",
              "      <th>799995</th>\n",
              "      <td>1</td>\n",
              "      <td>im gon na check time</td>\n",
              "    </tr>\n",
              "    <tr>\n",
              "      <th>799996</th>\n",
              "      <td>1</td>\n",
              "      <td>Mark Schlereth sweet dad world His story made cry</td>\n",
              "    </tr>\n",
              "    <tr>\n",
              "      <th>799997</th>\n",
              "      <td>0</td>\n",
              "      <td>im sorry night lem get drink</td>\n",
              "    </tr>\n",
              "    <tr>\n",
              "      <th>799998</th>\n",
              "      <td>1</td>\n",
              "      <td>Mahalos brah FF I always enjoy fcken tweets</td>\n",
              "    </tr>\n",
              "    <tr>\n",
              "      <th>799999</th>\n",
              "      <td>1</td>\n",
              "      <td>hope GREAT workout What</td>\n",
              "    </tr>\n",
              "  </tbody>\n",
              "</table>\n",
              "<p>800000 rows × 2 columns</p>\n",
              "</div>"
            ],
            "text/plain": [
              "        sentiment                                                                                             tweet\n",
              "0               1  GregShowing friends AudioBoo Everyone seems 2 love Ta headzup bro So need 2 get iPhone Roll June\n",
              "1               1                                       cant wait see 14th signed posters pics available booth 14th\n",
              "2               0                                                                    wants something go right today\n",
              "3               0                                                                            HAHUUUU ready tomorrow\n",
              "4               0                                                                                        rest peace\n",
              "...           ...                                                                                               ...\n",
              "799995          1                                                                              im gon na check time\n",
              "799996          1                                                 Mark Schlereth sweet dad world His story made cry\n",
              "799997          0                                                                      im sorry night lem get drink\n",
              "799998          1                                                       Mahalos brah FF I always enjoy fcken tweets\n",
              "799999          1                                                                           hope GREAT workout What\n",
              "\n",
              "[800000 rows x 2 columns]"
            ]
          },
          "metadata": {
            "tags": []
          },
          "execution_count": 6
        }
      ]
    },
    {
      "cell_type": "code",
      "metadata": {
        "id": "dutQTLcCJCP3",
        "colab": {
          "base_uri": "https://localhost:8080/",
          "height": 269
        },
        "outputId": "9db3ce42-2cf2-4c39-a5be-73c6a68278f2"
      },
      "source": [
        "# Creating a word cloud\n",
        "words = ' '.join([tweet for tweet in df['tweet']])\n",
        "wordCloud = WordCloud(width=1200, height=800).generate(words)\n",
        "\n",
        "plt.imshow(wordCloud)\n",
        "plt.show()"
      ],
      "execution_count": 7,
      "outputs": [
        {
          "output_type": "display_data",
          "data": {
            "image/png": "[encoded data removed]",
            "text/plain": [
              "<Figure size 432x288 with 1 Axes>"
            ]
          },
          "metadata": {
            "tags": [],
            "needs_background": "light"
          }
        }
      ]
    },
    {
      "cell_type": "markdown",
      "metadata": {
        "id": "p5ow33-ZJCP5"
      },
      "source": [
        "# TextBlob"
      ]
    },
    {
      "cell_type": "code",
      "metadata": {
        "id": "chlJN7whPf7b",
        "colab": {
          "base_uri": "https://localhost:8080/"
        },
        "outputId": "8cc0e29c-db48-42c2-8d11-6b649dcd599d"
      },
      "source": [
        "from textblob import TextBlob\n",
        "from textblob import Blobber\n",
        "from textblob.sentiments import NaiveBayesAnalyzer\n",
        "\n",
        "blobber = Blobber(analyzer=NaiveBayesAnalyzer())\n",
        "\n",
        "blob = blobber(\"The movie was good, I do not want to watch it agian\")\n",
        "print(blob.sentiment)"
      ],
      "execution_count": 8,
      "outputs": [
        {
          "output_type": "stream",
          "text": [
            "Sentiment(classification='neg', p_pos=0.48168014942308357, p_neg=0.5183198505769168)\n"
          ],
          "name": "stdout"
        }
      ]
    },
    {
      "cell_type": "code",
      "metadata": {
        "id": "BJSyl-OBWPds"
      },
      "source": [
        "df1 = df.copy()"
      ],
      "execution_count": 9,
      "outputs": []
    },
    {
      "cell_type": "code",
      "metadata": {
        "id": "uqsDCbdGJCQN"
      },
      "source": [
        "def getTextSubjectivity(txt):\n",
        "    return TextBlob(txt).sentiment.subjectivity\n",
        "\n",
        "def getTextPolarity(txt):\n",
        "    return TextBlob(txt).sentiment.polarity\n"
      ],
      "execution_count": 10,
      "outputs": []
    },
    {
      "cell_type": "code",
      "metadata": {
        "id": "LPJLKT2NJCQO"
      },
      "source": [
        "df1['Subjectivity'] =     df1['tweet'].apply(getTextSubjectivity)\n",
        "df1['Polarity']     =     df1['tweet'].apply(getTextPolarity)"
      ],
      "execution_count": 11,
      "outputs": []
    },
    {
      "cell_type": "code",
      "metadata": {
        "id": "RKTN-x3NeJHS"
      },
      "source": [
        "# negative, nautral, positive analysis \n",
        "def Sentiments_Score(tweet):\n",
        "    if tweet < 0:\n",
        "        return \"Negative\"\n",
        "    elif tweet == 0:\n",
        "        return \"Neutral\"\n",
        "    else:\n",
        "        return \"Positive\"    \n",
        "\n",
        "df1['Predicition_Textblob'] = df1['Polarity'].apply(Sentiments_Score)"
      ],
      "execution_count": 12,
      "outputs": []
    },
    {
      "cell_type": "code",
      "metadata": {
        "id": "cFUe5Xh5eI1D",
        "colab": {
          "base_uri": "https://localhost:8080/",
          "height": 314
        },
        "outputId": "f543fca8-bcc4-4731-f25f-47c226d5d4de"
      },
      "source": [
        "df1.sample(9)"
      ],
      "execution_count": 13,
      "outputs": [
        {
          "output_type": "execute_result",
          "data": {
            "text/html": [
              "<div>\n",
              "<style scoped>\n",
              "    .dataframe tbody tr th:only-of-type {\n",
              "        vertical-align: middle;\n",
              "    }\n",
              "\n",
              "    .dataframe tbody tr th {\n",
              "        vertical-align: top;\n",
              "    }\n",
              "\n",
              "    .dataframe thead th {\n",
              "        text-align: right;\n",
              "    }\n",
              "</style>\n",
              "<table border=\"1\" class=\"dataframe\">\n",
              "  <thead>\n",
              "    <tr style=\"text-align: right;\">\n",
              "      <th></th>\n",
              "      <th>sentiment</th>\n",
              "      <th>tweet</th>\n",
              "      <th>Subjectivity</th>\n",
              "      <th>Polarity</th>\n",
              "      <th>Predicition_Textblob</th>\n",
              "    </tr>\n",
              "  </thead>\n",
              "  <tbody>\n",
              "    <tr>\n",
              "      <th>757005</th>\n",
              "      <td>0</td>\n",
              "      <td>Flipping channels sad see UFC stuffguy 8 year old daughter fightingsurprised see Zappos sponsor</td>\n",
              "      <td>0.600000</td>\n",
              "      <td>-0.200000</td>\n",
              "      <td>Negative</td>\n",
              "    </tr>\n",
              "    <tr>\n",
              "      <th>144882</th>\n",
              "      <td>1</td>\n",
              "      <td>Yay raining</td>\n",
              "      <td>0.000000</td>\n",
              "      <td>0.000000</td>\n",
              "      <td>Neutral</td>\n",
              "    </tr>\n",
              "    <tr>\n",
              "      <th>662790</th>\n",
              "      <td>1</td>\n",
              "      <td>More pretty flowers My friends nice Japanese garden</td>\n",
              "      <td>0.625000</td>\n",
              "      <td>0.337500</td>\n",
              "      <td>Positive</td>\n",
              "    </tr>\n",
              "    <tr>\n",
              "      <th>306556</th>\n",
              "      <td>0</td>\n",
              "      <td>You wont hate I put name parents invitation Im worrying stupid things</td>\n",
              "      <td>0.950000</td>\n",
              "      <td>-0.800000</td>\n",
              "      <td>Negative</td>\n",
              "    </tr>\n",
              "    <tr>\n",
              "      <th>616155</th>\n",
              "      <td>1</td>\n",
              "      <td>Yeah road rules force anything gt 1 wheel</td>\n",
              "      <td>0.000000</td>\n",
              "      <td>0.000000</td>\n",
              "      <td>Neutral</td>\n",
              "    </tr>\n",
              "    <tr>\n",
              "      <th>613542</th>\n",
              "      <td>0</td>\n",
              "      <td>cant get one work</td>\n",
              "      <td>0.000000</td>\n",
              "      <td>0.000000</td>\n",
              "      <td>Neutral</td>\n",
              "    </tr>\n",
              "    <tr>\n",
              "      <th>709823</th>\n",
              "      <td>1</td>\n",
              "      <td>hohum really like himmm</td>\n",
              "      <td>0.200000</td>\n",
              "      <td>0.200000</td>\n",
              "      <td>Positive</td>\n",
              "    </tr>\n",
              "    <tr>\n",
              "      <th>295693</th>\n",
              "      <td>0</td>\n",
              "      <td>ohh noo tha awful im sure itll fine</td>\n",
              "      <td>0.796296</td>\n",
              "      <td>-0.027778</td>\n",
              "      <td>Negative</td>\n",
              "    </tr>\n",
              "    <tr>\n",
              "      <th>498518</th>\n",
              "      <td>0</td>\n",
              "      <td>Off 2 work Y days go quick</td>\n",
              "      <td>0.500000</td>\n",
              "      <td>0.333333</td>\n",
              "      <td>Positive</td>\n",
              "    </tr>\n",
              "  </tbody>\n",
              "</table>\n",
              "</div>"
            ],
            "text/plain": [
              "        sentiment  ... Predicition_Textblob\n",
              "757005          0  ...             Negative\n",
              "144882          1  ...              Neutral\n",
              "662790          1  ...             Positive\n",
              "306556          0  ...             Negative\n",
              "616155          1  ...              Neutral\n",
              "613542          0  ...              Neutral\n",
              "709823          1  ...             Positive\n",
              "295693          0  ...             Negative\n",
              "498518          0  ...             Positive\n",
              "\n",
              "[9 rows x 5 columns]"
            ]
          },
          "metadata": {
            "tags": []
          },
          "execution_count": 13
        }
      ]
    },
    {
      "cell_type": "code",
      "metadata": {
        "id": "34ypxetYJCQS",
        "colab": {
          "base_uri": "https://localhost:8080/",
          "height": 283
        },
        "outputId": "34892a7d-ec06-42f6-967a-834b3c99497b"
      },
      "source": [
        "plt.bar(df1.groupby('Predicition_Textblob').count().index.values, df1.groupby('Predicition_Textblob').size().values) "
      ],
      "execution_count": 14,
      "outputs": [
        {
          "output_type": "execute_result",
          "data": {
            "text/plain": [
              "<BarContainer object of 3 artists>"
            ]
          },
          "metadata": {
            "tags": []
          },
          "execution_count": 14
        },
        {
          "output_type": "display_data",
          "data": {
            "image/png": "[encoded data removed]",
            "text/plain": [
              "<Figure size 432x288 with 1 Axes>"
            ]
          },
          "metadata": {
            "tags": [],
            "needs_background": "light"
          }
        }
      ]
    },
    {
      "cell_type": "markdown",
      "metadata": {
        "id": "eEyDDhtvJCQT"
      },
      "source": [
        "## Vader Sentiment"
      ]
    },
    {
      "cell_type": "code",
      "metadata": {
        "id": "pdLJj8HXJCQT",
        "colab": {
          "base_uri": "https://localhost:8080/"
        },
        "outputId": "e8239f76-0054-46eb-d44f-e733f1e32f05"
      },
      "source": [
        "\n",
        "from nltk.sentiment.vader import SentimentIntensityAnalyzer\n",
        "analyser = SentimentIntensityAnalyzer()"
      ],
      "execution_count": 15,
      "outputs": [
        {
          "output_type": "stream",
          "text": [
            "/usr/local/lib/python3.7/dist-packages/nltk/twitter/__init__.py:20: UserWarning: The twython library has not been installed. Some functionality from the twitter package will not be available.\n",
            "  warnings.warn(\"The twython library has not been installed. \"\n"
          ],
          "name": "stderr"
        }
      ]
    },
    {
      "cell_type": "code",
      "metadata": {
        "id": "2P4dgLqNJCQV"
      },
      "source": [
        "df2= df.copy()"
      ],
      "execution_count": 16,
      "outputs": []
    },
    {
      "cell_type": "code",
      "metadata": {
        "id": "-dBbH9GiJCQW",
        "colab": {
          "base_uri": "https://localhost:8080/",
          "height": 402
        },
        "outputId": "0dc05033-8ae2-4a78-d8a1-1127e7d5d0a3"
      },
      "source": [
        "df2"
      ],
      "execution_count": 17,
      "outputs": [
        {
          "output_type": "execute_result",
          "data": {
            "text/html": [
              "<div>\n",
              "<style scoped>\n",
              "    .dataframe tbody tr th:only-of-type {\n",
              "        vertical-align: middle;\n",
              "    }\n",
              "\n",
              "    .dataframe tbody tr th {\n",
              "        vertical-align: top;\n",
              "    }\n",
              "\n",
              "    .dataframe thead th {\n",
              "        text-align: right;\n",
              "    }\n",
              "</style>\n",
              "<table border=\"1\" class=\"dataframe\">\n",
              "  <thead>\n",
              "    <tr style=\"text-align: right;\">\n",
              "      <th></th>\n",
              "      <th>sentiment</th>\n",
              "      <th>tweet</th>\n",
              "    </tr>\n",
              "  </thead>\n",
              "  <tbody>\n",
              "    <tr>\n",
              "      <th>0</th>\n",
              "      <td>1</td>\n",
              "      <td>GregShowing friends AudioBoo Everyone seems 2 love Ta headzup bro So need 2 get iPhone Roll June</td>\n",
              "    </tr>\n",
              "    <tr>\n",
              "      <th>1</th>\n",
              "      <td>1</td>\n",
              "      <td>cant wait see 14th signed posters pics available booth 14th</td>\n",
              "    </tr>\n",
              "    <tr>\n",
              "      <th>2</th>\n",
              "      <td>0</td>\n",
              "      <td>wants something go right today</td>\n",
              "    </tr>\n",
              "    <tr>\n",
              "      <th>3</th>\n",
              "      <td>0</td>\n",
              "      <td>HAHUUUU ready tomorrow</td>\n",
              "    </tr>\n",
              "    <tr>\n",
              "      <th>4</th>\n",
              "      <td>0</td>\n",
              "      <td>rest peace</td>\n",
              "    </tr>\n",
              "    <tr>\n",
              "      <th>...</th>\n",
              "      <td>...</td>\n",
              "      <td>...</td>\n",
              "    </tr>\n",
              "    <tr>\n",
              "      <th>799995</th>\n",
              "      <td>1</td>\n",
              "      <td>im gon na check time</td>\n",
              "    </tr>\n",
              "    <tr>\n",
              "      <th>799996</th>\n",
              "      <td>1</td>\n",
              "      <td>Mark Schlereth sweet dad world His story made cry</td>\n",
              "    </tr>\n",
              "    <tr>\n",
              "      <th>799997</th>\n",
              "      <td>0</td>\n",
              "      <td>im sorry night lem get drink</td>\n",
              "    </tr>\n",
              "    <tr>\n",
              "      <th>799998</th>\n",
              "      <td>1</td>\n",
              "      <td>Mahalos brah FF I always enjoy fcken tweets</td>\n",
              "    </tr>\n",
              "    <tr>\n",
              "      <th>799999</th>\n",
              "      <td>1</td>\n",
              "      <td>hope GREAT workout What</td>\n",
              "    </tr>\n",
              "  </tbody>\n",
              "</table>\n",
              "<p>800000 rows × 2 columns</p>\n",
              "</div>"
            ],
            "text/plain": [
              "        sentiment                                                                                             tweet\n",
              "0               1  GregShowing friends AudioBoo Everyone seems 2 love Ta headzup bro So need 2 get iPhone Roll June\n",
              "1               1                                       cant wait see 14th signed posters pics available booth 14th\n",
              "2               0                                                                    wants something go right today\n",
              "3               0                                                                            HAHUUUU ready tomorrow\n",
              "4               0                                                                                        rest peace\n",
              "...           ...                                                                                               ...\n",
              "799995          1                                                                              im gon na check time\n",
              "799996          1                                                 Mark Schlereth sweet dad world His story made cry\n",
              "799997          0                                                                      im sorry night lem get drink\n",
              "799998          1                                                       Mahalos brah FF I always enjoy fcken tweets\n",
              "799999          1                                                                           hope GREAT workout What\n",
              "\n",
              "[800000 rows x 2 columns]"
            ]
          },
          "metadata": {
            "tags": []
          },
          "execution_count": 17
        }
      ]
    },
    {
      "cell_type": "code",
      "metadata": {
        "id": "-R4WwUqsJCQX"
      },
      "source": [
        "df2['Predicition_Vader']=''\n",
        "\n",
        "def Vader_Sentiment(df2):\n",
        "    df2[\"neg\"] = df2[\"tweet\"].apply(lambda x:analyser.polarity_scores(x)[\"neg\"])\n",
        "    df2['neu'] = df2['tweet'].apply(lambda x:analyser.polarity_scores(x)['neu'])\n",
        "    df2['pos'] = df2['tweet'].apply(lambda x:analyser.polarity_scores(x)['pos'])\n",
        "    df2['compound'] = df2['tweet'].apply(lambda x:analyser.polarity_scores(x)['compound'])\n",
        "    \n",
        "    # negative, nautral, positive analysis \n",
        "    df2.loc[df2.compound>0,'Predicition_Vader']='Positive'\n",
        "    df2.loc[df2.compound==0,'Predicition_Vader']='Neutral'\n",
        "    df2.loc[df2.compound<0,'Predicition_Vader']='Negative'\n",
        "\n",
        "    return df2"
      ],
      "execution_count": 18,
      "outputs": []
    },
    {
      "cell_type": "code",
      "metadata": {
        "id": "gtgSzbn2JCQZ"
      },
      "source": [
        "df2 = Vader_Sentiment(df2)"
      ],
      "execution_count": 19,
      "outputs": []
    },
    {
      "cell_type": "code",
      "metadata": {
        "id": "u8lCOVJqJCQg",
        "colab": {
          "base_uri": "https://localhost:8080/",
          "height": 402
        },
        "outputId": "395fe55a-fbd8-44b9-9bf0-ec619d1b7a51"
      },
      "source": [
        "df2"
      ],
      "execution_count": 20,
      "outputs": [
        {
          "output_type": "execute_result",
          "data": {
            "text/html": [
              "<div>\n",
              "<style scoped>\n",
              "    .dataframe tbody tr th:only-of-type {\n",
              "        vertical-align: middle;\n",
              "    }\n",
              "\n",
              "    .dataframe tbody tr th {\n",
              "        vertical-align: top;\n",
              "    }\n",
              "\n",
              "    .dataframe thead th {\n",
              "        text-align: right;\n",
              "    }\n",
              "</style>\n",
              "<table border=\"1\" class=\"dataframe\">\n",
              "  <thead>\n",
              "    <tr style=\"text-align: right;\">\n",
              "      <th></th>\n",
              "      <th>sentiment</th>\n",
              "      <th>tweet</th>\n",
              "      <th>Predicition_Vader</th>\n",
              "      <th>neg</th>\n",
              "      <th>neu</th>\n",
              "      <th>pos</th>\n",
              "      <th>compound</th>\n",
              "    </tr>\n",
              "  </thead>\n",
              "  <tbody>\n",
              "    <tr>\n",
              "      <th>0</th>\n",
              "      <td>1</td>\n",
              "      <td>GregShowing friends AudioBoo Everyone seems 2 love Ta headzup bro So need 2 get iPhone Roll June</td>\n",
              "      <td>Positive</td>\n",
              "      <td>0.000</td>\n",
              "      <td>0.640</td>\n",
              "      <td>0.360</td>\n",
              "      <td>0.8074</td>\n",
              "    </tr>\n",
              "    <tr>\n",
              "      <th>1</th>\n",
              "      <td>1</td>\n",
              "      <td>cant wait see 14th signed posters pics available booth 14th</td>\n",
              "      <td>Neutral</td>\n",
              "      <td>0.000</td>\n",
              "      <td>1.000</td>\n",
              "      <td>0.000</td>\n",
              "      <td>0.0000</td>\n",
              "    </tr>\n",
              "    <tr>\n",
              "      <th>2</th>\n",
              "      <td>0</td>\n",
              "      <td>wants something go right today</td>\n",
              "      <td>Neutral</td>\n",
              "      <td>0.000</td>\n",
              "      <td>1.000</td>\n",
              "      <td>0.000</td>\n",
              "      <td>0.0000</td>\n",
              "    </tr>\n",
              "    <tr>\n",
              "      <th>3</th>\n",
              "      <td>0</td>\n",
              "      <td>HAHUUUU ready tomorrow</td>\n",
              "      <td>Positive</td>\n",
              "      <td>0.000</td>\n",
              "      <td>0.444</td>\n",
              "      <td>0.556</td>\n",
              "      <td>0.3612</td>\n",
              "    </tr>\n",
              "    <tr>\n",
              "      <th>4</th>\n",
              "      <td>0</td>\n",
              "      <td>rest peace</td>\n",
              "      <td>Positive</td>\n",
              "      <td>0.000</td>\n",
              "      <td>0.222</td>\n",
              "      <td>0.778</td>\n",
              "      <td>0.5423</td>\n",
              "    </tr>\n",
              "    <tr>\n",
              "      <th>...</th>\n",
              "      <td>...</td>\n",
              "      <td>...</td>\n",
              "      <td>...</td>\n",
              "      <td>...</td>\n",
              "      <td>...</td>\n",
              "      <td>...</td>\n",
              "      <td>...</td>\n",
              "    </tr>\n",
              "    <tr>\n",
              "      <th>799995</th>\n",
              "      <td>1</td>\n",
              "      <td>im gon na check time</td>\n",
              "      <td>Neutral</td>\n",
              "      <td>0.000</td>\n",
              "      <td>1.000</td>\n",
              "      <td>0.000</td>\n",
              "      <td>0.0000</td>\n",
              "    </tr>\n",
              "    <tr>\n",
              "      <th>799996</th>\n",
              "      <td>1</td>\n",
              "      <td>Mark Schlereth sweet dad world His story made cry</td>\n",
              "      <td>Negative</td>\n",
              "      <td>0.237</td>\n",
              "      <td>0.534</td>\n",
              "      <td>0.229</td>\n",
              "      <td>-0.0258</td>\n",
              "    </tr>\n",
              "    <tr>\n",
              "      <th>799997</th>\n",
              "      <td>0</td>\n",
              "      <td>im sorry night lem get drink</td>\n",
              "      <td>Negative</td>\n",
              "      <td>0.206</td>\n",
              "      <td>0.794</td>\n",
              "      <td>0.000</td>\n",
              "      <td>-0.0772</td>\n",
              "    </tr>\n",
              "    <tr>\n",
              "      <th>799998</th>\n",
              "      <td>1</td>\n",
              "      <td>Mahalos brah FF I always enjoy fcken tweets</td>\n",
              "      <td>Positive</td>\n",
              "      <td>0.000</td>\n",
              "      <td>0.426</td>\n",
              "      <td>0.574</td>\n",
              "      <td>0.7739</td>\n",
              "    </tr>\n",
              "    <tr>\n",
              "      <th>799999</th>\n",
              "      <td>1</td>\n",
              "      <td>hope GREAT workout What</td>\n",
              "      <td>Positive</td>\n",
              "      <td>0.000</td>\n",
              "      <td>0.205</td>\n",
              "      <td>0.795</td>\n",
              "      <td>0.8286</td>\n",
              "    </tr>\n",
              "  </tbody>\n",
              "</table>\n",
              "<p>800000 rows × 7 columns</p>\n",
              "</div>"
            ],
            "text/plain": [
              "        sentiment  ... compound\n",
              "0               1  ...   0.8074\n",
              "1               1  ...   0.0000\n",
              "2               0  ...   0.0000\n",
              "3               0  ...   0.3612\n",
              "4               0  ...   0.5423\n",
              "...           ...  ...      ...\n",
              "799995          1  ...   0.0000\n",
              "799996          1  ...  -0.0258\n",
              "799997          0  ...  -0.0772\n",
              "799998          1  ...   0.7739\n",
              "799999          1  ...   0.8286\n",
              "\n",
              "[800000 rows x 7 columns]"
            ]
          },
          "metadata": {
            "tags": []
          },
          "execution_count": 20
        }
      ]
    },
    {
      "cell_type": "code",
      "metadata": {
        "id": "NIe1q7FhJCQj",
        "colab": {
          "base_uri": "https://localhost:8080/",
          "height": 285
        },
        "outputId": "436709de-7f34-497c-abac-fd8b13808972"
      },
      "source": [
        "plt.bar(df2.groupby('Predicition_Vader').count().index.values,  df2.groupby('Predicition_Vader').size().values)"
      ],
      "execution_count": 21,
      "outputs": [
        {
          "output_type": "execute_result",
          "data": {
            "text/plain": [
              "<BarContainer object of 3 artists>"
            ]
          },
          "metadata": {
            "tags": []
          },
          "execution_count": 21
        },
        {
          "output_type": "display_data",
          "data": {
            "image/png": "[encoded data removed]",
            "text/plain": [
              "<Figure size 432x288 with 1 Axes>"
            ]
          },
          "metadata": {
            "tags": [],
            "needs_background": "light"
          }
        }
      ]
    },
    {
      "cell_type": "code",
      "metadata": {
        "id": "tyMZnVgwJCQn"
      },
      "source": [
        "df3=df.copy()"
      ],
      "execution_count": 22,
      "outputs": []
    },
    {
      "cell_type": "code",
      "metadata": {
        "id": "Vs9oEkj_Xf2T",
        "colab": {
          "base_uri": "https://localhost:8080/",
          "height": 402
        },
        "outputId": "0e70c7a6-7ba6-48c1-bbe0-389e59c597e4"
      },
      "source": [
        "df3"
      ],
      "execution_count": 23,
      "outputs": [
        {
          "output_type": "execute_result",
          "data": {
            "text/html": [
              "<div>\n",
              "<style scoped>\n",
              "    .dataframe tbody tr th:only-of-type {\n",
              "        vertical-align: middle;\n",
              "    }\n",
              "\n",
              "    .dataframe tbody tr th {\n",
              "        vertical-align: top;\n",
              "    }\n",
              "\n",
              "    .dataframe thead th {\n",
              "        text-align: right;\n",
              "    }\n",
              "</style>\n",
              "<table border=\"1\" class=\"dataframe\">\n",
              "  <thead>\n",
              "    <tr style=\"text-align: right;\">\n",
              "      <th></th>\n",
              "      <th>sentiment</th>\n",
              "      <th>tweet</th>\n",
              "    </tr>\n",
              "  </thead>\n",
              "  <tbody>\n",
              "    <tr>\n",
              "      <th>0</th>\n",
              "      <td>1</td>\n",
              "      <td>GregShowing friends AudioBoo Everyone seems 2 love Ta headzup bro So need 2 get iPhone Roll June</td>\n",
              "    </tr>\n",
              "    <tr>\n",
              "      <th>1</th>\n",
              "      <td>1</td>\n",
              "      <td>cant wait see 14th signed posters pics available booth 14th</td>\n",
              "    </tr>\n",
              "    <tr>\n",
              "      <th>2</th>\n",
              "      <td>0</td>\n",
              "      <td>wants something go right today</td>\n",
              "    </tr>\n",
              "    <tr>\n",
              "      <th>3</th>\n",
              "      <td>0</td>\n",
              "      <td>HAHUUUU ready tomorrow</td>\n",
              "    </tr>\n",
              "    <tr>\n",
              "      <th>4</th>\n",
              "      <td>0</td>\n",
              "      <td>rest peace</td>\n",
              "    </tr>\n",
              "    <tr>\n",
              "      <th>...</th>\n",
              "      <td>...</td>\n",
              "      <td>...</td>\n",
              "    </tr>\n",
              "    <tr>\n",
              "      <th>799995</th>\n",
              "      <td>1</td>\n",
              "      <td>im gon na check time</td>\n",
              "    </tr>\n",
              "    <tr>\n",
              "      <th>799996</th>\n",
              "      <td>1</td>\n",
              "      <td>Mark Schlereth sweet dad world His story made cry</td>\n",
              "    </tr>\n",
              "    <tr>\n",
              "      <th>799997</th>\n",
              "      <td>0</td>\n",
              "      <td>im sorry night lem get drink</td>\n",
              "    </tr>\n",
              "    <tr>\n",
              "      <th>799998</th>\n",
              "      <td>1</td>\n",
              "      <td>Mahalos brah FF I always enjoy fcken tweets</td>\n",
              "    </tr>\n",
              "    <tr>\n",
              "      <th>799999</th>\n",
              "      <td>1</td>\n",
              "      <td>hope GREAT workout What</td>\n",
              "    </tr>\n",
              "  </tbody>\n",
              "</table>\n",
              "<p>800000 rows × 2 columns</p>\n",
              "</div>"
            ],
            "text/plain": [
              "        sentiment                                                                                             tweet\n",
              "0               1  GregShowing friends AudioBoo Everyone seems 2 love Ta headzup bro So need 2 get iPhone Roll June\n",
              "1               1                                       cant wait see 14th signed posters pics available booth 14th\n",
              "2               0                                                                    wants something go right today\n",
              "3               0                                                                            HAHUUUU ready tomorrow\n",
              "4               0                                                                                        rest peace\n",
              "...           ...                                                                                               ...\n",
              "799995          1                                                                              im gon na check time\n",
              "799996          1                                                 Mark Schlereth sweet dad world His story made cry\n",
              "799997          0                                                                      im sorry night lem get drink\n",
              "799998          1                                                       Mahalos brah FF I always enjoy fcken tweets\n",
              "799999          1                                                                           hope GREAT workout What\n",
              "\n",
              "[800000 rows x 2 columns]"
            ]
          },
          "metadata": {
            "tags": []
          },
          "execution_count": 23
        }
      ]
    },
    {
      "cell_type": "code",
      "metadata": {
        "id": "7FNQWQGbOVgH",
        "colab": {
          "base_uri": "https://localhost:8080/"
        },
        "outputId": "d53bf0d3-cffc-4eac-8c34-2649f1b58cb5"
      },
      "source": [
        "# 0: Negative\n",
        "# 1: Positive\n",
        "\n",
        "print(df3.tweet[100])\n",
        "print(df3.sentiment[100])\n"
      ],
      "execution_count": 24,
      "outputs": [
        {
          "output_type": "stream",
          "text": [
            "Friday couldnt come slowerBut im glad\n",
            "1\n"
          ],
          "name": "stdout"
        }
      ]
    },
    {
      "cell_type": "code",
      "metadata": {
        "id": "hLawHgKNOkJ2"
      },
      "source": [
        "training_size = int(len(df3.tweet) * 0.8)\n",
        "\n",
        "X_train = df3.tweet[0: training_size].values\n",
        "X_test = df3.tweet[: training_size].values\n",
        "\n",
        "y_train = df3.sentiment[0: training_size].values\n",
        "y_test = df3.sentiment[: training_size].values\n",
        "\n",
        "# Put labels into list to use later:"
      ],
      "execution_count": 25,
      "outputs": []
    },
    {
      "cell_type": "code",
      "metadata": {
        "id": "tiX07mE6kP1m"
      },
      "source": [
        ""
      ],
      "execution_count": 25,
      "outputs": []
    },
    {
      "cell_type": "code",
      "metadata": {
        "id": "67d2IhREPXEn"
      },
      "source": [
        "from tensorflow.python.keras.preprocessing.text import Tokenizer\n",
        "from tensorflow.python.keras.preprocessing.sequence import pad_sequences\n",
        "\n",
        "tokenizer_obj = Tokenizer(oov_token=\"<OOV>\")\n",
        "tokenizer_obj.fit_on_texts(X_train) \n",
        "\n",
        "vocab_size = len(tokenizer_obj.word_index) + 1\n",
        "max_length = 100\n",
        "\n",
        "X_train_tokens = tokenizer_obj.texts_to_sequences(X_train)\n",
        "X_train_pad = pad_sequences(X_train_tokens, maxlen=max_length, padding='post', truncating='post')\n",
        "\n",
        "X_test_tokens = tokenizer_obj.texts_to_sequences(X_test)\n",
        "X_test_pad = pad_sequences(X_test_tokens, maxlen=max_length, padding='post', truncating='post')"
      ],
      "execution_count": 26,
      "outputs": []
    },
    {
      "cell_type": "code",
      "metadata": {
        "id": "sznSAbx2PZt7",
        "colab": {
          "base_uri": "https://localhost:8080/"
        },
        "outputId": "c1838d3c-6afb-40d9-9866-bf7a9107e430"
      },
      "source": [
        "import tensorflow as tf\n",
        "\n",
        "model = tf.keras.models.Sequential()\n",
        "embedding_dim = 16\n",
        "model.add(tf.keras.layers.Embedding(vocab_size, embedding_dim , input_length=max_length))\n",
        "model.add(tf.keras.layers.Bidirectional( tf.keras.layers.LSTM(embedding_dim, return_sequences=True)))\n",
        "model.add(tf.keras.layers.Dense(12, activation='relu'))\n",
        "model.add(tf.keras.layers.Dense(1, activation='sigmoid'))\n",
        "\n",
        "model.compile(loss='binary_crossentropy', optimizer=tf.keras.optimizers.Adam(0.01), metrics=['accuracy'])\n",
        "print(model.summary())"
      ],
      "execution_count": 27,
      "outputs": [
        {
          "output_type": "stream",
          "text": [
            "Model: \"sequential\"\n",
            "_________________________________________________________________\n",
            "Layer (type)                 Output Shape              Param #   \n",
            "=================================================================\n",
            "embedding (Embedding)        (None, 100, 16)           3809056   \n",
            "_________________________________________________________________\n",
            "bidirectional (Bidirectional (None, 100, 32)           4224      \n",
            "_________________________________________________________________\n",
            "dense (Dense)                (None, 100, 12)           396       \n",
            "_________________________________________________________________\n",
            "dense_1 (Dense)              (None, 100, 1)            13        \n",
            "=================================================================\n",
            "Total params: 3,813,689\n",
            "Trainable params: 3,813,689\n",
            "Non-trainable params: 0\n",
            "_________________________________________________________________\n",
            "None\n"
          ],
          "name": "stdout"
        }
      ]
    },
    {
      "cell_type": "code",
      "metadata": {
        "id": "XKQG8_u4ryXQ"
      },
      "source": [
        "from keras import backend as K \n",
        "K.clear_session()"
      ],
      "execution_count": 28,
      "outputs": []
    },
    {
      "cell_type": "code",
      "metadata": {
        "id": "W4BDG5BxhjPG",
        "colab": {
          "base_uri": "https://localhost:8080/"
        },
        "outputId": "a5fc9901-e0e6-4b24-b0d5-09bddd7812e2"
      },
      "source": [
        "\n",
        "num_epochs=5\n",
        "history = model.fit(X_train_pad, y_train, \n",
        "                    epochs = num_epochs,\n",
        "                    batch_size=256,\n",
        "                    validation_data=(X_test_pad, y_test),\n",
        "                    callbacks = tf.keras.callbacks.EarlyStopping(monitor='val_loss', patience=0, mode='auto')\n",
        ")"
      ],
      "execution_count": 29,
      "outputs": [
        {
          "output_type": "stream",
          "text": [
            "Epoch 1/5\n",
            "2500/2500 [==============================] - 153s 48ms/step - loss: 0.5927 - accuracy: 0.6886 - val_loss: 0.4200 - val_accuracy: 0.8123\n",
            "Epoch 2/5\n",
            "2500/2500 [==============================] - 119s 48ms/step - loss: 0.4078 - accuracy: 0.8164 - val_loss: 0.3359 - val_accuracy: 0.8571\n",
            "Epoch 3/5\n",
            "2500/2500 [==============================] - 119s 48ms/step - loss: 0.3312 - accuracy: 0.8564 - val_loss: 0.2778 - val_accuracy: 0.8828\n",
            "Epoch 4/5\n",
            "2500/2500 [==============================] - 119s 47ms/step - loss: 0.2801 - accuracy: 0.8787 - val_loss: 0.2452 - val_accuracy: 0.8973\n",
            "Epoch 5/5\n",
            "2500/2500 [==============================] - 119s 47ms/step - loss: 0.2485 - accuracy: 0.8918 - val_loss: 0.2256 - val_accuracy: 0.9050\n"
          ],
          "name": "stdout"
        }
      ]
    },
    {
      "cell_type": "code",
      "metadata": {
        "id": "ZNmw2rJ8x_rM",
        "colab": {
          "base_uri": "https://localhost:8080/",
          "height": 296
        },
        "outputId": "9fd8cc92-6659-4b1c-b9d8-30d19956defa"
      },
      "source": [
        "# Decrease because the early stopping\n",
        "\n",
        "plt.plot(history.history['accuracy'])\n",
        "plt.plot(history.history['val_accuracy'])\n",
        "\n",
        "plt.xlabel('Epochs')\n",
        "plt.ylabel('Accuracy')\n",
        "\n"
      ],
      "execution_count": 30,
      "outputs": [
        {
          "output_type": "execute_result",
          "data": {
            "text/plain": [
              "Text(0, 0.5, 'Accuracy')"
            ]
          },
          "metadata": {
            "tags": []
          },
          "execution_count": 30
        },
        {
          "output_type": "display_data",
          "data": {
            "image/png": "[encoded data removed]",
            "text/plain": [
              "<Figure size 432x288 with 1 Axes>"
            ]
          },
          "metadata": {
            "tags": [],
            "needs_background": "light"
          }
        }
      ]
    },
    {
      "cell_type": "code",
      "metadata": {
        "id": "jJ9VN5wqzSS2",
        "colab": {
          "base_uri": "https://localhost:8080/",
          "height": 296
        },
        "outputId": "8ac749a4-3510-4dfd-c413-67782d4fec2d"
      },
      "source": [
        "plt.plot(history.history['loss'])\n",
        "\n",
        "plt.xlabel('Epochs')\n",
        "plt.ylabel('loss')"
      ],
      "execution_count": 31,
      "outputs": [
        {
          "output_type": "execute_result",
          "data": {
            "text/plain": [
              "Text(0, 0.5, 'loss')"
            ]
          },
          "metadata": {
            "tags": []
          },
          "execution_count": 31
        },
        {
          "output_type": "display_data",
          "data": {
            "image/png": "[encoded data removed]",
            "text/plain": [
              "<Figure size 432x288 with 1 Axes>"
            ]
          },
          "metadata": {
            "tags": [],
            "needs_background": "light"
          }
        }
      ]
    },
    {
      "cell_type": "markdown",
      "metadata": {
        "id": "slc1F_ze0X8v"
      },
      "source": [
        "Testing"
      ]
    },
    {
      "cell_type": "code",
      "metadata": {
        "id": "e435qaMKzW0F",
        "colab": {
          "base_uri": "https://localhost:8080/"
        },
        "outputId": "f732f111-361e-4548-d5f4-7e84cf903863"
      },
      "source": [
        "# Use the model to predict Tweeets  \n",
        "\n",
        "Test_Tweet =  ['I love this phone',]\n",
        "\n",
        "print(Test_Tweet) \n",
        "\n",
        "# Create the sequences\n",
        "\n",
        "Test_Tweet_sequences = tokenizer_obj.texts_to_sequences(Test_Tweet)\n",
        "Test_Tweet_padded = pad_sequences(Test_Tweet_sequences, maxlen=max_length, padding=\"post\" )           \n",
        "\n",
        "prediciton = model.predict(Test_Tweet_padded, batch_size=3)"
      ],
      "execution_count": 42,
      "outputs": [
        {
          "output_type": "stream",
          "text": [
            "['I love this phone']\n"
          ],
          "name": "stdout"
        }
      ]
    },
    {
      "cell_type": "code",
      "metadata": {
        "id": "qwq9hGFn0luU",
        "colab": {
          "base_uri": "https://localhost:8080/"
        },
        "outputId": "94c254b8-e002-4e88-e317-c21c9d8fe68c"
      },
      "source": [
        "if(np.argmax(prediciton) == 0):\n",
        "    print(\"negative\")\n",
        "elif (np.argmax(prediciton) == 1):\n",
        "    print(\"positive\")"
      ],
      "execution_count": 43,
      "outputs": [
        {
          "output_type": "stream",
          "text": [
            "positive\n"
          ],
          "name": "stdout"
        }
      ]
    },
    {
      "cell_type": "code",
      "metadata": {
        "id": "lP1vkJXM5Cmq",
        "colab": {
          "base_uri": "https://localhost:8080/"
        },
        "outputId": "701fb13c-96ab-40de-b4f5-fba7417e8329"
      },
      "source": [
        "np.round(np.argmax(prediciton), decimals=2)"
      ],
      "execution_count": 44,
      "outputs": [
        {
          "output_type": "execute_result",
          "data": {
            "text/plain": [
              "1"
            ]
          },
          "metadata": {
            "tags": []
          },
          "execution_count": 44
        }
      ]
    },
    {
      "cell_type": "code",
      "metadata": {
        "id": "9BQjpPMiRRZr",
        "colab": {
          "base_uri": "https://localhost:8080/"
        },
        "outputId": "9b4cd27b-168b-4fd5-9785-264cfb4d5d7d"
      },
      "source": [
        "prediciton"
      ],
      "execution_count": 40,
      "outputs": [
        {
          "output_type": "execute_result",
          "data": {
            "text/plain": [
              "array([[[0.8515382 ],\n",
              "        [0.87227076],\n",
              "        [0.7942164 ],\n",
              "        [0.78004885],\n",
              "        [0.79574746],\n",
              "        [0.8051536 ],\n",
              "        [0.8112655 ],\n",
              "        [0.81417114],\n",
              "        [0.81539506],\n",
              "        [0.8158131 ],\n",
              "        [0.8158558 ],\n",
              "        [0.81573284],\n",
              "        [0.81553525],\n",
              "        [0.8153047 ],\n",
              "        [0.8150618 ],\n",
              "        [0.81481767],\n",
              "        [0.81457883],\n",
              "        [0.81434935],\n",
              "        [0.8141314 ],\n",
              "        [0.81392616],\n",
              "        [0.8137342 ],\n",
              "        [0.8135552 ],\n",
              "        [0.81338865],\n",
              "        [0.81323415],\n",
              "        [0.81309086],\n",
              "        [0.81295806],\n",
              "        [0.81283486],\n",
              "        [0.8127207 ],\n",
              "        [0.8126148 ],\n",
              "        [0.81251633],\n",
              "        [0.81242496],\n",
              "        [0.81234   ],\n",
              "        [0.81226087],\n",
              "        [0.81218725],\n",
              "        [0.81211865],\n",
              "        [0.8120546 ],\n",
              "        [0.8119948 ],\n",
              "        [0.811939  ],\n",
              "        [0.81188697],\n",
              "        [0.8118382 ],\n",
              "        [0.81179273],\n",
              "        [0.8117501 ],\n",
              "        [0.81171024],\n",
              "        [0.811673  ],\n",
              "        [0.8116381 ],\n",
              "        [0.8116056 ],\n",
              "        [0.811575  ],\n",
              "        [0.8115465 ],\n",
              "        [0.8115198 ],\n",
              "        [0.8114948 ],\n",
              "        [0.81147146],\n",
              "        [0.81144965],\n",
              "        [0.8114293 ],\n",
              "        [0.81141025],\n",
              "        [0.81139255],\n",
              "        [0.81137604],\n",
              "        [0.8113606 ],\n",
              "        [0.81134635],\n",
              "        [0.811333  ],\n",
              "        [0.81132066],\n",
              "        [0.81130916],\n",
              "        [0.81129855],\n",
              "        [0.81128883],\n",
              "        [0.8112798 ],\n",
              "        [0.8112715 ],\n",
              "        [0.81126386],\n",
              "        [0.8112569 ],\n",
              "        [0.8112505 ],\n",
              "        [0.8112448 ],\n",
              "        [0.81123954],\n",
              "        [0.81123483],\n",
              "        [0.8112306 ],\n",
              "        [0.81122684],\n",
              "        [0.8112236 ],\n",
              "        [0.8112206 ],\n",
              "        [0.81121814],\n",
              "        [0.81121594],\n",
              "        [0.81121427],\n",
              "        [0.8112128 ],\n",
              "        [0.8112117 ],\n",
              "        [0.8112108 ],\n",
              "        [0.8112103 ],\n",
              "        [0.8112099 ],\n",
              "        [0.8112097 ],\n",
              "        [0.81120974],\n",
              "        [0.81121   ],\n",
              "        [0.8112104 ],\n",
              "        [0.8112107 ],\n",
              "        [0.81121117],\n",
              "        [0.8112114 ],\n",
              "        [0.81121165],\n",
              "        [0.81121176],\n",
              "        [0.8112115 ],\n",
              "        [0.81121117],\n",
              "        [0.81121075],\n",
              "        [0.81121093],\n",
              "        [0.8112128 ],\n",
              "        [0.8112191 ],\n",
              "        [0.81123656],\n",
              "        [0.81131655]],\n",
              "\n",
              "       [[0.6319877 ],\n",
              "        [0.8855384 ],\n",
              "        [0.9350682 ],\n",
              "        [0.9207537 ],\n",
              "        [0.9247047 ],\n",
              "        [0.92262053],\n",
              "        [0.9191632 ],\n",
              "        [0.91606003],\n",
              "        [0.91360205],\n",
              "        [0.91169345],\n",
              "        [0.9101869 ],\n",
              "        [0.90896034],\n",
              "        [0.9079266 ],\n",
              "        [0.90702647],\n",
              "        [0.9062214 ],\n",
              "        [0.9054865 ],\n",
              "        [0.90480596],\n",
              "        [0.9041696 ],\n",
              "        [0.9035711 ],\n",
              "        [0.90300614],\n",
              "        [0.9024717 ],\n",
              "        [0.9019657 ],\n",
              "        [0.90148634],\n",
              "        [0.9010322 ],\n",
              "        [0.90060204],\n",
              "        [0.90019435],\n",
              "        [0.89980793],\n",
              "        [0.8994417 ],\n",
              "        [0.89909434],\n",
              "        [0.8987646 ],\n",
              "        [0.8984517 ],\n",
              "        [0.89815414],\n",
              "        [0.89787114],\n",
              "        [0.89760154],\n",
              "        [0.8973444 ],\n",
              "        [0.89709914],\n",
              "        [0.89686453],\n",
              "        [0.8966401 ],\n",
              "        [0.8964249 ],\n",
              "        [0.8962184 ],\n",
              "        [0.8960199 ],\n",
              "        [0.8958288 ],\n",
              "        [0.89564466],\n",
              "        [0.89546686],\n",
              "        [0.895295  ],\n",
              "        [0.89512867],\n",
              "        [0.8949675 ],\n",
              "        [0.89481103],\n",
              "        [0.8946588 ],\n",
              "        [0.8945108 ],\n",
              "        [0.8943665 ],\n",
              "        [0.89422584],\n",
              "        [0.89408827],\n",
              "        [0.8939539 ],\n",
              "        [0.8938222 ],\n",
              "        [0.89369327],\n",
              "        [0.8935667 ],\n",
              "        [0.89344245],\n",
              "        [0.89332026],\n",
              "        [0.89320016],\n",
              "        [0.8930818 ],\n",
              "        [0.89296514],\n",
              "        [0.8928501 ],\n",
              "        [0.89273655],\n",
              "        [0.8926244 ],\n",
              "        [0.89251345],\n",
              "        [0.8924038 ],\n",
              "        [0.8922952 ],\n",
              "        [0.89218765],\n",
              "        [0.892081  ],\n",
              "        [0.89197546],\n",
              "        [0.8918707 ],\n",
              "        [0.89176667],\n",
              "        [0.8916633 ],\n",
              "        [0.8915607 ],\n",
              "        [0.89145863],\n",
              "        [0.8913573 ],\n",
              "        [0.89125645],\n",
              "        [0.8911561 ],\n",
              "        [0.8910561 ],\n",
              "        [0.8909565 ],\n",
              "        [0.8908572 ],\n",
              "        [0.8907582 ],\n",
              "        [0.8906595 ],\n",
              "        [0.8905608 ],\n",
              "        [0.8904623 ],\n",
              "        [0.8903635 ],\n",
              "        [0.8902646 ],\n",
              "        [0.8901652 ],\n",
              "        [0.8900652 ],\n",
              "        [0.88996434],\n",
              "        [0.889862  ],\n",
              "        [0.8897577 ],\n",
              "        [0.8896505 ],\n",
              "        [0.8895384 ],\n",
              "        [0.8894171 ],\n",
              "        [0.8892758 ],\n",
              "        [0.8890828 ],\n",
              "        [0.8887433 ],\n",
              "        [0.8879551 ]]], dtype=float32)"
            ]
          },
          "metadata": {
            "tags": []
          },
          "execution_count": 40
        }
      ]
    },
    {
      "cell_type": "code",
      "metadata": {
        "id": "7jUgHOUdX-tm"
      },
      "source": [
        ""
      ],
      "execution_count": null,
      "outputs": []
    }
  ]
}